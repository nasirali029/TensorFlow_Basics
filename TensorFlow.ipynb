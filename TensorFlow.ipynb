{
  "nbformat": 4,
  "nbformat_minor": 0,
  "metadata": {
    "colab": {
      "name": "TensorFlow.ipynb",
      "provenance": [],
      "collapsed_sections": []
    },
    "kernelspec": {
      "name": "python3",
      "display_name": "Python 3"
    },
    "language_info": {
      "name": "python"
    }
  },
  "cells": [
    {
      "cell_type": "markdown",
      "metadata": {
        "id": "61WiWWh7RhM_"
      },
      "source": [
        "# TensorFlow\n",
        "TensorFlow is an open source library which is used to develop and train Machine Learning/Deep Learning models"
      ]
    },
    {
      "cell_type": "markdown",
      "metadata": {
        "id": "58tZl90jR8_Z"
      },
      "source": [
        "### Programming Element of TensorFlow\n",
        "**Constant:** It is use to create a constant tensor from a tensor-like object.\n",
        "\n",
        "**Variable:** It allows to add new trainable parameters to the graph. \n",
        "\n",
        "**Placeholder:** It allows to feed the data to a TensorFlow model from outside a model. \n",
        "\n",
        "**Sparse Tensor:** It enable efficient storage and processing of tensors that contain maximum zero’s values\n",
        "\n"
      ]
    },
    {
      "cell_type": "markdown",
      "metadata": {
        "id": "Xeoq0mZTRppa"
      },
      "source": [
        "## How to creae a TensorFlow Constant?\n",
        "It is use to create a constant tensor from a tensor-like object.\n",
        "\n",
        "**Syntax:** tf.constant()\n",
        "\n",
        "There are 4 paramenters of a TensoFlow constant.\n",
        "\n",
        "value: A constant value (or a list) of output dtype.\n",
        "\n",
        "dtype: A type of data type (int float boolean)\n",
        "\n",
        "shape: Optional dimentions of resulting Tensor.\n",
        "\n",
        "name: Opetional name for the Tensor.\n",
        "\n"
      ]
    },
    {
      "cell_type": "markdown",
      "metadata": {
        "id": "_cx-MRePWNW8"
      },
      "source": [
        "### Important Note:\n",
        "\n",
        "\n",
        "1.   Most of TensorFlow syntax is similar to Numpy.\n",
        "2.   While building neural network graph need constant varisable like input data, it never change while training. \n",
        "3. We cannot convert Python sequence with mixed typed to Tensor\n",
        "\n"
      ]
    },
    {
      "cell_type": "code",
      "metadata": {
        "colab": {
          "base_uri": "https://localhost:8080/",
          "height": 35
        },
        "id": "Xo7b-ZAGWlbg",
        "outputId": "d19ebebb-2bb6-4aad-d93b-5c9c1d8d9f2a"
      },
      "source": [
        "import tensorflow as tf\n",
        "tf.__version__"
      ],
      "execution_count": null,
      "outputs": [
        {
          "output_type": "execute_result",
          "data": {
            "application/vnd.google.colaboratory.intrinsic+json": {
              "type": "string"
            },
            "text/plain": [
              "'2.5.0'"
            ]
          },
          "metadata": {
            "tags": []
          },
          "execution_count": 2
        }
      ]
    },
    {
      "cell_type": "code",
      "metadata": {
        "colab": {
          "base_uri": "https://localhost:8080/"
        },
        "id": "bXiikLIhkh7_",
        "outputId": "df5b1917-6b9a-4165-f139-c0e547d9353d"
      },
      "source": [
        "tf.test.is_gpu_available"
      ],
      "execution_count": null,
      "outputs": [
        {
          "output_type": "execute_result",
          "data": {
            "text/plain": [
              "<function tensorflow.python.framework.test_util.is_gpu_available>"
            ]
          },
          "metadata": {
            "tags": []
          },
          "execution_count": 7
        }
      ]
    },
    {
      "cell_type": "code",
      "metadata": {
        "colab": {
          "base_uri": "https://localhost:8080/"
        },
        "id": "_AI6d1xllFhV",
        "outputId": "4893ab37-67a3-40ea-cc70-5779e40c935b"
      },
      "source": [
        "# Create Integer Constant \n",
        "tf.constant(10)"
      ],
      "execution_count": null,
      "outputs": [
        {
          "output_type": "execute_result",
          "data": {
            "text/plain": [
              "<tf.Tensor: shape=(), dtype=int32, numpy=10>"
            ]
          },
          "metadata": {
            "tags": []
          },
          "execution_count": 8
        }
      ]
    },
    {
      "cell_type": "code",
      "metadata": {
        "colab": {
          "base_uri": "https://localhost:8080/"
        },
        "id": "o4owiU9Rlorz",
        "outputId": "543007dc-b076-4c3a-d707-3e2219e83df3"
      },
      "source": [
        "# Create Float Constant \n",
        "tf.constant(10.05)"
      ],
      "execution_count": null,
      "outputs": [
        {
          "output_type": "execute_result",
          "data": {
            "text/plain": [
              "<tf.Tensor: shape=(), dtype=float32, numpy=10.05>"
            ]
          },
          "metadata": {
            "tags": []
          },
          "execution_count": 9
        }
      ]
    },
    {
      "cell_type": "code",
      "metadata": {
        "colab": {
          "base_uri": "https://localhost:8080/"
        },
        "id": "9DVtKNQwlu-y",
        "outputId": "79db747f-a4c9-4f8e-e0d1-36716806694a"
      },
      "source": [
        "# Create String Constant \n",
        "tf.constant(\"Nasir\")"
      ],
      "execution_count": null,
      "outputs": [
        {
          "output_type": "execute_result",
          "data": {
            "text/plain": [
              "<tf.Tensor: shape=(), dtype=string, numpy=b'Nasir'>"
            ]
          },
          "metadata": {
            "tags": []
          },
          "execution_count": 13
        }
      ]
    },
    {
      "cell_type": "code",
      "metadata": {
        "colab": {
          "base_uri": "https://localhost:8080/"
        },
        "id": "8MbC1N0Ul2ke",
        "outputId": "4852013e-2c56-40a1-f7ba-e1db40fd77b2"
      },
      "source": [
        "# Create Float Constant \n",
        "tf.constant(True)"
      ],
      "execution_count": null,
      "outputs": [
        {
          "output_type": "execute_result",
          "data": {
            "text/plain": [
              "<tf.Tensor: shape=(), dtype=bool, numpy=True>"
            ]
          },
          "metadata": {
            "tags": []
          },
          "execution_count": 14
        }
      ]
    },
    {
      "cell_type": "code",
      "metadata": {
        "colab": {
          "base_uri": "https://localhost:8080/"
        },
        "id": "Ioa7UWfPmJjs",
        "outputId": "39ea6a1c-689e-41e5-cab6-e6d5fa7c75ab"
      },
      "source": [
        "# Create Constant Numpy Array/List/Tuple\n",
        "import numpy as np\n",
        "tf.constant(np.array([1,2,3,4]))"
      ],
      "execution_count": null,
      "outputs": [
        {
          "output_type": "execute_result",
          "data": {
            "text/plain": [
              "<tf.Tensor: shape=(4,), dtype=int64, numpy=array([1, 2, 3, 4])>"
            ]
          },
          "metadata": {
            "tags": []
          },
          "execution_count": 20
        }
      ]
    },
    {
      "cell_type": "code",
      "metadata": {
        "colab": {
          "base_uri": "https://localhost:8080/"
        },
        "id": "pQOoiT4Am2w8",
        "outputId": "3bad4555-43b4-4dac-a6be-cd265b4fca5c"
      },
      "source": [
        "# Create 1D Constant\n",
        "oneD_array = tf.constant([1,2,3,4])\n",
        "print (oneD_array)"
      ],
      "execution_count": null,
      "outputs": [
        {
          "output_type": "stream",
          "text": [
            "tf.Tensor([1 2 3 4], shape=(4,), dtype=int32)\n"
          ],
          "name": "stdout"
        }
      ]
    },
    {
      "cell_type": "code",
      "metadata": {
        "colab": {
          "base_uri": "https://localhost:8080/"
        },
        "id": "ZiOh29aeoeKd",
        "outputId": "592d827c-d519-4657-e7ea-1fdc551bcbc7"
      },
      "source": [
        "# Create 2D Constant\n",
        "twoD_array = tf.constant([[1,2,],[3,4]])\n",
        "print (twoD_array)"
      ],
      "execution_count": null,
      "outputs": [
        {
          "output_type": "stream",
          "text": [
            "tf.Tensor(\n",
            "[[1 2]\n",
            " [3 4]], shape=(2, 2), dtype=int32)\n"
          ],
          "name": "stdout"
        }
      ]
    },
    {
      "cell_type": "code",
      "metadata": {
        "colab": {
          "base_uri": "https://localhost:8080/"
        },
        "id": "POeXLnryonX_",
        "outputId": "040b5093-b9cd-435d-fd6a-e4b833af37ba"
      },
      "source": [
        "# Create 2D Constant Array Using 1D Array\n",
        "twoD_array = tf.constant([1,2,3,4], shape = (2,2))\n",
        "print (twoD_array)"
      ],
      "execution_count": null,
      "outputs": [
        {
          "output_type": "stream",
          "text": [
            "tf.Tensor(\n",
            "[[1 2]\n",
            " [3 4]], shape=(2, 2), dtype=int32)\n"
          ],
          "name": "stdout"
        }
      ]
    },
    {
      "cell_type": "code",
      "metadata": {
        "colab": {
          "base_uri": "https://localhost:8080/"
        },
        "id": "-970EasypQBx",
        "outputId": "b70ab9da-b94e-4444-a67c-32fccdc043ac"
      },
      "source": [
        "# Create 2D Constant Array Using 1D Array WIth Data Type\n",
        "twoD_array = tf.constant([1,2,3,4], shape = (2,2), dtype = \"float32\")\n",
        "print (twoD_array)"
      ],
      "execution_count": null,
      "outputs": [
        {
          "output_type": "stream",
          "text": [
            "tf.Tensor(\n",
            "[[1. 2.]\n",
            " [3. 4.]], shape=(2, 2), dtype=float32)\n"
          ],
          "name": "stdout"
        }
      ]
    },
    {
      "cell_type": "code",
      "metadata": {
        "colab": {
          "base_uri": "https://localhost:8080/"
        },
        "id": "nbU3rZpkpi9T",
        "outputId": "b399c9a9-9ef8-40e3-aa25-859db90955c9"
      },
      "source": [
        "# Create N-D Constant\n",
        "ND_array = tf.constant([[[1,2],[2,3],[4,5]]])\n",
        "print (ND_array)"
      ],
      "execution_count": null,
      "outputs": [
        {
          "output_type": "stream",
          "text": [
            "tf.Tensor(\n",
            "[[[1 2]\n",
            "  [2 3]\n",
            "  [4 5]]], shape=(1, 3, 2), dtype=int32)\n"
          ],
          "name": "stdout"
        }
      ]
    },
    {
      "cell_type": "code",
      "metadata": {
        "colab": {
          "base_uri": "https://localhost:8080/"
        },
        "id": "kMvyKLB-qBN2",
        "outputId": "e8b9d1ce-9b3d-490c-c8c6-1ac9df99c1b6"
      },
      "source": [
        "# Type of Constant\n",
        "type (ND_array)"
      ],
      "execution_count": null,
      "outputs": [
        {
          "output_type": "execute_result",
          "data": {
            "text/plain": [
              "tensorflow.python.framework.ops.EagerTensor"
            ]
          },
          "metadata": {
            "tags": []
          },
          "execution_count": 11
        }
      ]
    },
    {
      "cell_type": "code",
      "metadata": {
        "colab": {
          "base_uri": "https://localhost:8080/"
        },
        "id": "hlLPv-tNqdh_",
        "outputId": "b4e37570-ca12-4a7c-d320-dc83be42d8e7"
      },
      "source": [
        "# Shape of Constant\n",
        "ND_array.shape"
      ],
      "execution_count": null,
      "outputs": [
        {
          "output_type": "execute_result",
          "data": {
            "text/plain": [
              "TensorShape([1, 3, 2])"
            ]
          },
          "metadata": {
            "tags": []
          },
          "execution_count": 20
        }
      ]
    },
    {
      "cell_type": "code",
      "metadata": {
        "colab": {
          "base_uri": "https://localhost:8080/"
        },
        "id": "69dZaFqMrfJ_",
        "outputId": "8ae64232-44b8-4445-cb44-b8e263fcba23"
      },
      "source": [
        "# Dtype of Constant\n",
        "oneD_array.dtype"
      ],
      "execution_count": null,
      "outputs": [
        {
          "output_type": "execute_result",
          "data": {
            "text/plain": [
              "tf.int32"
            ]
          },
          "metadata": {
            "tags": []
          },
          "execution_count": 21
        }
      ]
    },
    {
      "cell_type": "code",
      "metadata": {
        "colab": {
          "base_uri": "https://localhost:8080/"
        },
        "id": "OEPn7ginrNVX",
        "outputId": "19c64e8c-36e5-4b33-f780-ff4ec53a8c01"
      },
      "source": [
        "# Access Constant Value\n",
        "oneD_array.numpy()"
      ],
      "execution_count": null,
      "outputs": [
        {
          "output_type": "execute_result",
          "data": {
            "text/plain": [
              "array([1, 2, 3, 4], dtype=int32)"
            ]
          },
          "metadata": {
            "tags": []
          },
          "execution_count": 18
        }
      ]
    },
    {
      "cell_type": "markdown",
      "metadata": {
        "id": "VDXFjxzWr93o"
      },
      "source": [
        "## How to creae a TensorFlow Varaible?\n",
        "It allows to add new trainable parameters to the graph(structure of neural network). \n",
        "\n",
        "**Syntax:** tf.Variable()\n",
        "\n",
        "The Variable() constructor requires an initial value for the variable, which can be a Tensor of any **type** and **shape**. This initial value defines the type and shape of the variable. \n",
        "\n",
        "After construction, the type and shape of the variable are **fixed**. It means that shape and type will never change. The value can be changed using one of the assign methods. \n",
        "\n",
        "While writing a **syntax** of TensorFlow variable the first letter should be capital. "
      ]
    },
    {
      "cell_type": "markdown",
      "metadata": {
        "id": "rGz6WGcnvXQg"
      },
      "source": [
        "**Parameter of a TensorFlow Variable:**\n",
        "\n",
        "tf.Varaible (initial_value=None, trainable=None, validate_shape=True, caching_device=None, name=None, variable_def=None, dtype=None, import_scope=None, constraint=None, synchronization=VariableSynchronization.AUTO, aggregation=VariableAggregation.NONE, shape=None)"
      ]
    },
    {
      "cell_type": "code",
      "metadata": {
        "id": "m8TgN-qitDHu"
      },
      "source": [
        "import tensorflow as tf"
      ],
      "execution_count": null,
      "outputs": []
    },
    {
      "cell_type": "code",
      "metadata": {
        "colab": {
          "base_uri": "https://localhost:8080/"
        },
        "id": "pC5oaCjqutyR",
        "outputId": "29899a51-f69c-48d5-8d54-850e1ee7e96d"
      },
      "source": [
        "# Create Tensor Variable (It Save The Variable Name It Self)\n",
        "tf.Variable(1)\n"
      ],
      "execution_count": null,
      "outputs": [
        {
          "output_type": "execute_result",
          "data": {
            "text/plain": [
              "<tf.Variable 'Variable:0' shape=() dtype=int32, numpy=1>"
            ]
          },
          "metadata": {
            "tags": []
          },
          "execution_count": 27
        }
      ]
    },
    {
      "cell_type": "code",
      "metadata": {
        "colab": {
          "base_uri": "https://localhost:8080/"
        },
        "id": "qJod_ZL6whQU",
        "outputId": "10e060e9-8218-4b0f-8276-30756f0ccd85"
      },
      "source": [
        "# Create Tensor Variable Using Array\n",
        "var = tf.Variable([1,2,3,4])\n",
        "print (var)\n"
      ],
      "execution_count": null,
      "outputs": [
        {
          "output_type": "stream",
          "text": [
            "<tf.Variable 'Variable:0' shape=(4,) dtype=int32, numpy=array([1, 2, 3, 4], dtype=int32)>\n"
          ],
          "name": "stdout"
        }
      ]
    },
    {
      "cell_type": "code",
      "metadata": {
        "colab": {
          "base_uri": "https://localhost:8080/"
        },
        "id": "0HittPJKxTCq",
        "outputId": "acd9b654-6fbb-4b91-ecb0-062e97f3a148"
      },
      "source": [
        "# Access Tensor Variable Value\n",
        "var.numpy()"
      ],
      "execution_count": null,
      "outputs": [
        {
          "output_type": "execute_result",
          "data": {
            "text/plain": [
              "array([1, 2, 3, 4], dtype=int32)"
            ]
          },
          "metadata": {
            "tags": []
          },
          "execution_count": 37
        }
      ]
    },
    {
      "cell_type": "code",
      "metadata": {
        "colab": {
          "base_uri": "https://localhost:8080/"
        },
        "id": "flBxCYErwADB",
        "outputId": "20efc034-0d4e-4a7c-c15c-6cfc3f219fbd"
      },
      "source": [
        "# Create TF using Integer Value\n",
        "tf_int = tf.Variable([1,2,3,4])\n",
        "tf_int\n"
      ],
      "execution_count": null,
      "outputs": [
        {
          "output_type": "execute_result",
          "data": {
            "text/plain": [
              "<tf.Variable 'Variable:0' shape=(4,) dtype=int32, numpy=array([1, 2, 3, 4], dtype=int32)>"
            ]
          },
          "metadata": {
            "tags": []
          },
          "execution_count": 36
        }
      ]
    },
    {
      "cell_type": "code",
      "metadata": {
        "colab": {
          "base_uri": "https://localhost:8080/"
        },
        "id": "JXWNDK6IxwgF",
        "outputId": "40f05f60-9aa2-45a3-d20e-c03254ccae9e"
      },
      "source": [
        "# Create TF using Float Value\n",
        "tf_float = tf.Variable([1.5 ,2.5 ,3.5 ,4.5])\n",
        "tf_float\n"
      ],
      "execution_count": null,
      "outputs": [
        {
          "output_type": "execute_result",
          "data": {
            "text/plain": [
              "<tf.Variable 'Variable:0' shape=(4,) dtype=float32, numpy=array([1.5, 2.5, 3.5, 4.5], dtype=float32)>"
            ]
          },
          "metadata": {
            "tags": []
          },
          "execution_count": 38
        }
      ]
    },
    {
      "cell_type": "code",
      "metadata": {
        "colab": {
          "base_uri": "https://localhost:8080/"
        },
        "id": "Y2BL3SIayCn8",
        "outputId": "886e4a49-5d4f-42d5-ff37-e0ae732456e3"
      },
      "source": [
        "# Create TF using String \n",
        "tf_str1 = tf.Variable(['N', 'A', 'S', 'I', 'R'])\n",
        "tf_str1\n"
      ],
      "execution_count": null,
      "outputs": [
        {
          "output_type": "execute_result",
          "data": {
            "text/plain": [
              "<tf.Variable 'Variable:0' shape=(5,) dtype=string, numpy=array([b'N', b'A', b'S', b'I', b'R'], dtype=object)>"
            ]
          },
          "metadata": {
            "tags": []
          },
          "execution_count": 5
        }
      ]
    },
    {
      "cell_type": "code",
      "metadata": {
        "colab": {
          "base_uri": "https://localhost:8080/"
        },
        "id": "fA9AyAIfyJoH",
        "outputId": "2c050c77-3c24-4992-bee4-ef45ff0d6d2b"
      },
      "source": [
        "# Create TF using Boolean Value\n",
        "tf_bool = tf.Variable(True)\n",
        "tf_bool"
      ],
      "execution_count": null,
      "outputs": [
        {
          "output_type": "execute_result",
          "data": {
            "text/plain": [
              "<tf.Variable 'Variable:0' shape=() dtype=bool, numpy=True>"
            ]
          },
          "metadata": {
            "tags": []
          },
          "execution_count": 40
        }
      ]
    },
    {
      "cell_type": "code",
      "metadata": {
        "colab": {
          "base_uri": "https://localhost:8080/"
        },
        "id": "fFsZlNphyRZ-",
        "outputId": "766498b5-467c-4b7e-c1d1-77ba2da55d2b"
      },
      "source": [
        "# Create TF using Complex Vale\n",
        "tf_complex = tf.Variable([1+2j])\n",
        "tf_complex"
      ],
      "execution_count": null,
      "outputs": [
        {
          "output_type": "execute_result",
          "data": {
            "text/plain": [
              "<tf.Variable 'Variable:0' shape=(1,) dtype=complex128, numpy=array([1.+2.j])>"
            ]
          },
          "metadata": {
            "tags": []
          },
          "execution_count": 6
        }
      ]
    },
    {
      "cell_type": "markdown",
      "metadata": {
        "id": "dH-ZDLbqz7iN"
      },
      "source": [
        "**Create TF Variable From Constant**"
      ]
    },
    {
      "cell_type": "code",
      "metadata": {
        "colab": {
          "base_uri": "https://localhost:8080/"
        },
        "id": "ULGIOGw_0D1z",
        "outputId": "1db359bf-44d2-4c79-e550-688ae80542e0"
      },
      "source": [
        "tf_const = tf.constant([1,2,3,4])\n",
        "tf_const"
      ],
      "execution_count": null,
      "outputs": [
        {
          "output_type": "execute_result",
          "data": {
            "text/plain": [
              "<tf.Tensor: shape=(4,), dtype=int32, numpy=array([1, 2, 3, 4], dtype=int32)>"
            ]
          },
          "metadata": {
            "tags": []
          },
          "execution_count": 9
        }
      ]
    },
    {
      "cell_type": "code",
      "metadata": {
        "colab": {
          "base_uri": "https://localhost:8080/"
        },
        "id": "sPY4H_jH0N69",
        "outputId": "c49f5d52-0140-4308-ab80-ef3d8053bd09"
      },
      "source": [
        "tf.Variable(tf_const)"
      ],
      "execution_count": null,
      "outputs": [
        {
          "output_type": "execute_result",
          "data": {
            "text/plain": [
              "<tf.Variable 'Variable:0' shape=(4,) dtype=int32, numpy=array([1, 2, 3, 4], dtype=int32)>"
            ]
          },
          "metadata": {
            "tags": []
          },
          "execution_count": 10
        }
      ]
    },
    {
      "cell_type": "markdown",
      "metadata": {
        "id": "65scqaYf0l0W"
      },
      "source": [
        "**Create TF Variable With Different Shape**"
      ]
    },
    {
      "cell_type": "code",
      "metadata": {
        "colab": {
          "base_uri": "https://localhost:8080/"
        },
        "id": "t3esjTv80cnW",
        "outputId": "4c7955f8-a33c-4c08-807a-2f45ab8188a0"
      },
      "source": [
        "twoD_array = tf.Variable([[1,2],[3,4]], shape = (2,2), dtype=\"int32\")\n",
        "twoD_array"
      ],
      "execution_count": null,
      "outputs": [
        {
          "output_type": "execute_result",
          "data": {
            "text/plain": [
              "<tf.Variable 'Variable:0' shape=(2, 2) dtype=int32, numpy=\n",
              "array([[1, 2],\n",
              "       [3, 4]], dtype=int32)>"
            ]
          },
          "metadata": {
            "tags": []
          },
          "execution_count": 12
        }
      ]
    },
    {
      "cell_type": "code",
      "metadata": {
        "colab": {
          "base_uri": "https://localhost:8080/"
        },
        "id": "smZjJuo31MRU",
        "outputId": "574bc9e0-2828-4704-da1d-5c9d8d1b89bc"
      },
      "source": [
        "a = tf.Variable([1,2,3,4])\n",
        "tf.reshape(a, (2,2))"
      ],
      "execution_count": null,
      "outputs": [
        {
          "output_type": "execute_result",
          "data": {
            "text/plain": [
              "<tf.Tensor: shape=(2, 2), dtype=int32, numpy=\n",
              "array([[1, 2],\n",
              "       [3, 4]], dtype=int32)>"
            ]
          },
          "metadata": {
            "tags": []
          },
          "execution_count": 15
        }
      ]
    },
    {
      "cell_type": "markdown",
      "metadata": {
        "id": "u_LzF3kR2Ekt"
      },
      "source": [
        "**Get Index of Highest Value** "
      ]
    },
    {
      "cell_type": "code",
      "metadata": {
        "colab": {
          "base_uri": "https://localhost:8080/"
        },
        "id": "JyeXoAUd2JmV",
        "outputId": "dbe6bc88-dbd1-4a74-a80d-c3c822972ae0"
      },
      "source": [
        "twoD_array = tf.Variable([[1,2],[3,4]], shape = (2,2), dtype=\"int32\")\n",
        "tf.argmax(twoD_array)"
      ],
      "execution_count": null,
      "outputs": [
        {
          "output_type": "execute_result",
          "data": {
            "text/plain": [
              "<tf.Tensor: shape=(2,), dtype=int64, numpy=array([1, 1])>"
            ]
          },
          "metadata": {
            "tags": []
          },
          "execution_count": 16
        }
      ]
    },
    {
      "cell_type": "code",
      "metadata": {
        "colab": {
          "base_uri": "https://localhost:8080/"
        },
        "id": "dNeF1Gwf2Z_P",
        "outputId": "66777f2b-00c4-45bf-c071-7f2c32ae2b6f"
      },
      "source": [
        "# For Only Maximum Index Value We Will Use Given Below Code\n",
        "tf.argmax(twoD_array).numpy()"
      ],
      "execution_count": null,
      "outputs": [
        {
          "output_type": "execute_result",
          "data": {
            "text/plain": [
              "array([1, 1])"
            ]
          },
          "metadata": {
            "tags": []
          },
          "execution_count": 17
        }
      ]
    },
    {
      "cell_type": "markdown",
      "metadata": {
        "id": "76a74JDc3Afn"
      },
      "source": [
        "**Viewed/Convert Variable or Constant into a Tensor**"
      ]
    },
    {
      "cell_type": "code",
      "metadata": {
        "id": "NKpgDlte3G4W"
      },
      "source": [
        "num = tf.Variable([1,2,3,4])"
      ],
      "execution_count": null,
      "outputs": []
    },
    {
      "cell_type": "code",
      "metadata": {
        "colab": {
          "base_uri": "https://localhost:8080/"
        },
        "id": "yitx7GkO3OOW",
        "outputId": "d9530dd3-5c77-468c-aa9b-d448f5d2da23"
      },
      "source": [
        "tf.convert_to_tensor(num)"
      ],
      "execution_count": null,
      "outputs": [
        {
          "output_type": "execute_result",
          "data": {
            "text/plain": [
              "<tf.Tensor: shape=(4,), dtype=int32, numpy=array([1, 2, 3, 4], dtype=int32)>"
            ]
          },
          "metadata": {
            "tags": []
          },
          "execution_count": 21
        }
      ]
    },
    {
      "cell_type": "markdown",
      "metadata": {
        "id": "3C01LmE_3qik"
      },
      "source": [
        "**Change/Assign A New Value into a Tensor**"
      ]
    },
    {
      "cell_type": "code",
      "metadata": {
        "colab": {
          "base_uri": "https://localhost:8080/"
        },
        "id": "WKQoLsD63yiO",
        "outputId": "94ef399b-aebb-49b5-9846-51c25eb45293"
      },
      "source": [
        "# Type & Shape Will Never Change. So, We Can Only Replace The Given Values\n",
        "num.assign([4,3,2,1])"
      ],
      "execution_count": null,
      "outputs": [
        {
          "output_type": "execute_result",
          "data": {
            "text/plain": [
              "<tf.Variable 'UnreadVariable' shape=(4,) dtype=int32, numpy=array([4, 3, 2, 1], dtype=int32)>"
            ]
          },
          "metadata": {
            "tags": []
          },
          "execution_count": 24
        }
      ]
    },
    {
      "cell_type": "markdown",
      "metadata": {
        "id": "saYtPfgZ4gHz"
      },
      "source": [
        "**Assign a Variable With Another Memory**"
      ]
    },
    {
      "cell_type": "code",
      "metadata": {
        "colab": {
          "base_uri": "https://localhost:8080/"
        },
        "id": "3o3JLXFs4k_R",
        "outputId": "54cfaecf-3abb-4bc1-9694-4c9f863d6519"
      },
      "source": [
        "num.assign_add([4,3,2,1])"
      ],
      "execution_count": null,
      "outputs": [
        {
          "output_type": "execute_result",
          "data": {
            "text/plain": [
              "<tf.Variable 'UnreadVariable' shape=(4,) dtype=int32, numpy=array([8, 6, 4, 2], dtype=int32)>"
            ]
          },
          "metadata": {
            "tags": []
          },
          "execution_count": 26
        }
      ]
    },
    {
      "cell_type": "markdown",
      "metadata": {
        "id": "Z4qmvwCT9Zkt"
      },
      "source": [
        "## How to creae a TensorFlow Placeholder?\n",
        "A placeholder is simply a variable that we will assign data to at a later date. It allows us to create our operation and build our computation graph, without needing the data. \n",
        "**Syntax:** tf.placeholder(dtype, shape = none, name = none)\n"
      ]
    },
    {
      "cell_type": "code",
      "metadata": {
        "id": "OwQF8esI9aS2"
      },
      "source": [
        "import tensorflow as tf "
      ],
      "execution_count": 2,
      "outputs": []
    },
    {
      "cell_type": "code",
      "metadata": {
        "colab": {
          "base_uri": "https://localhost:8080/",
          "height": 169
        },
        "id": "agcfkCVG-hx1",
        "outputId": "4c672091-ce14-43b9-8467-91841dbc2b7e"
      },
      "source": [
        "tf.placeholder(dtype.float32, shape=(400,400))\n",
        "# it given error becuase tensorflow version 2 does not compatible "
      ],
      "execution_count": 4,
      "outputs": [
        {
          "output_type": "error",
          "ename": "AttributeError",
          "evalue": "ignored",
          "traceback": [
            "\u001b[0;31m---------------------------------------------------------------------------\u001b[0m",
            "\u001b[0;31mAttributeError\u001b[0m                            Traceback (most recent call last)",
            "\u001b[0;32m<ipython-input-4-614cdbee545f>\u001b[0m in \u001b[0;36m<module>\u001b[0;34m()\u001b[0m\n\u001b[0;32m----> 1\u001b[0;31m \u001b[0mtf\u001b[0m\u001b[0;34m.\u001b[0m\u001b[0mplaceholder\u001b[0m\u001b[0;34m(\u001b[0m\u001b[0mdtype\u001b[0m\u001b[0;34m.\u001b[0m\u001b[0mfloat32\u001b[0m\u001b[0;34m,\u001b[0m \u001b[0mshape\u001b[0m\u001b[0;34m=\u001b[0m\u001b[0;34m(\u001b[0m\u001b[0;36m400\u001b[0m\u001b[0;34m,\u001b[0m\u001b[0;36m400\u001b[0m\u001b[0;34m)\u001b[0m\u001b[0;34m)\u001b[0m\u001b[0;34m\u001b[0m\u001b[0;34m\u001b[0m\u001b[0m\n\u001b[0m",
            "\u001b[0;31mAttributeError\u001b[0m: module 'tensorflow' has no attribute 'placeholder'"
          ]
        }
      ]
    },
    {
      "cell_type": "code",
      "metadata": {
        "id": "XjKJ3i-0-sZf"
      },
      "source": [
        "# Placeholder are not executeable immediately so we need to disable eager execution in TF_2 not in TF_v1\n",
        "tf.compat.v1.disable_eager_execution()"
      ],
      "execution_count": 9,
      "outputs": []
    },
    {
      "cell_type": "code",
      "metadata": {
        "colab": {
          "base_uri": "https://localhost:8080/"
        },
        "id": "-a257lWv_Xwp",
        "outputId": "a4d55663-8b22-4191-acf3-ea9c06156715"
      },
      "source": [
        "tf.compat.v1.placeholder(dtype = \"float32\", shape=(400,400))"
      ],
      "execution_count": 12,
      "outputs": [
        {
          "output_type": "execute_result",
          "data": {
            "text/plain": [
              "<tf.Tensor 'Placeholder:0' shape=(400, 400) dtype=float32>"
            ]
          },
          "metadata": {
            "tags": []
          },
          "execution_count": 12
        }
      ]
    },
    {
      "cell_type": "markdown",
      "metadata": {
        "id": "KrLfNIZ6Bhys"
      },
      "source": [
        "**Perform Mathmetical Operation With Placeholder**"
      ]
    },
    {
      "cell_type": "code",
      "metadata": {
        "colab": {
          "base_uri": "https://localhost:8080/"
        },
        "id": "7JuFEUTyBmw4",
        "outputId": "5624e482-3842-4092-f658-881ce8b2e231"
      },
      "source": [
        "a = tf.compat.v1.placeholder(dtype = \"int32\", shape= (400,400))\n",
        "b = tf.compat.v1.placeholder(dtype = \"int32\", shape= (400,400))\n",
        "c = tf.add(a,b)\n",
        "c\n"
      ],
      "execution_count": 15,
      "outputs": [
        {
          "output_type": "execute_result",
          "data": {
            "text/plain": [
              "<tf.Tensor 'Add_1:0' shape=(400, 400) dtype=int32>"
            ]
          },
          "metadata": {
            "tags": []
          },
          "execution_count": 15
        }
      ]
    },
    {
      "cell_type": "code",
      "metadata": {
        "id": "y9OaqJkMCgaj"
      },
      "source": [
        "#Create A Number \n",
        "import numpy as np\n"
      ],
      "execution_count": 16,
      "outputs": []
    },
    {
      "cell_type": "code",
      "metadata": {
        "colab": {
          "base_uri": "https://localhost:8080/"
        },
        "id": "UVF4sf-lDBH9",
        "outputId": "3678ba1a-e899-422c-b2af-bbab69983db0"
      },
      "source": [
        "ones_array = np.ones((400,400), np.int32)\n",
        "ones_array"
      ],
      "execution_count": 17,
      "outputs": [
        {
          "output_type": "execute_result",
          "data": {
            "text/plain": [
              "array([[1, 1, 1, ..., 1, 1, 1],\n",
              "       [1, 1, 1, ..., 1, 1, 1],\n",
              "       [1, 1, 1, ..., 1, 1, 1],\n",
              "       ...,\n",
              "       [1, 1, 1, ..., 1, 1, 1],\n",
              "       [1, 1, 1, ..., 1, 1, 1],\n",
              "       [1, 1, 1, ..., 1, 1, 1]], dtype=int32)"
            ]
          },
          "metadata": {
            "tags": []
          },
          "execution_count": 17
        }
      ]
    },
    {
      "cell_type": "code",
      "metadata": {
        "colab": {
          "base_uri": "https://localhost:8080/"
        },
        "id": "DwiDBIbFDPVE",
        "outputId": "454cd9f3-e099-4c4c-f11b-12208201434c"
      },
      "source": [
        "# Execute Tensorflow Placeholder using session to execute in TF_v1 \n",
        "with tf.compat.v1.Session() as sess:\n",
        "  d =sess.run(c, feed_dict = {a:ones_array, b:ones_array})  # To store it anohter varaible to call it\n",
        "d # to recall "
      ],
      "execution_count": 25,
      "outputs": [
        {
          "output_type": "execute_result",
          "data": {
            "text/plain": [
              "array([[2, 2, 2, ..., 2, 2, 2],\n",
              "       [2, 2, 2, ..., 2, 2, 2],\n",
              "       [2, 2, 2, ..., 2, 2, 2],\n",
              "       ...,\n",
              "       [2, 2, 2, ..., 2, 2, 2],\n",
              "       [2, 2, 2, ..., 2, 2, 2],\n",
              "       [2, 2, 2, ..., 2, 2, 2]], dtype=int32)"
            ]
          },
          "metadata": {
            "tags": []
          },
          "execution_count": 25
        }
      ]
    },
    {
      "cell_type": "markdown",
      "metadata": {
        "id": "_dyYU3RtO7aO"
      },
      "source": [
        "## How to creae a TensorFlow SparseTensor?\n",
        "It enable efficient storage and processing of tensors that contain maximum zero’s values. \n",
        "\n",
        "Tensor that contain mostly zero values are called sparse tensor. \n",
        "\n",
        "When working with tensors that contain a lot of zero values, it is important to store them in a space-and time-efficient manner. \n",
        "\n",
        "Sparse tensors enable efficient storage and processing of tensors that contain a lot of zero values. Sparse tensors are used extensively in encoding schemes like TF-IDF as part of data pre-processing in NLP applications and for pre-processing images with a lot of dark pixels in computer vision applications.\n",
        "\n",
        "Currently, sparse tensors in TensorFlow are encoded using the coordinate list (C00) format. \n",
        "\n",
        "The COO encoding for sparse tensors is comprised of: \n",
        "\n",
        "**values:** A ID tensor with shape [N] containing all nonzero values. \n",
        "\n",
        "**indices:** A 2D tensor with shape [N, rank], containing the indices of the nonzero values.\n",
        "\n",
        "**dense_shape:** A 1D tensor with shape [rank], specifying the shape of the tensor. \n",
        "lever° value in the context of a tf.SparseTensor is a value that's not explicitly encoded. \n",
        "\n",
        "**Syntax:** tf.SparseTensor(dtype, shape = none, name = none)"
      ]
    },
    {
      "cell_type": "code",
      "metadata": {
        "id": "xlsjbyv7RlbW"
      },
      "source": [
        "import tensorflow as tf\n"
      ],
      "execution_count": 26,
      "outputs": []
    },
    {
      "cell_type": "code",
      "metadata": {
        "colab": {
          "base_uri": "https://localhost:8080/"
        },
        "id": "Eor1fsYmSzPM",
        "outputId": "d1c9b145-5359-4c3e-e39b-5a5c15ea97aa"
      },
      "source": [
        "tf.SparseTensor(indices=[[1,2],[3,4]], values = [10,20], dense_shape = [3,10] )"
      ],
      "execution_count": 29,
      "outputs": [
        {
          "output_type": "execute_result",
          "data": {
            "text/plain": [
              "<tensorflow.python.framework.sparse_tensor.SparseTensor at 0x7fa1cac02950>"
            ]
          },
          "metadata": {
            "tags": []
          },
          "execution_count": 29
        }
      ]
    },
    {
      "cell_type": "code",
      "metadata": {
        "colab": {
          "base_uri": "https://localhost:8080/"
        },
        "id": "ZQYhB6ueTV3u",
        "outputId": "aebad973-bc0e-4ab0-a9ee-98b2d378a24f"
      },
      "source": [
        "a = tf.SparseTensor(indices=[[1,2],[3,4]], values = [10,20], dense_shape = [3,10] )\n",
        "print(a)"
      ],
      "execution_count": 31,
      "outputs": [
        {
          "output_type": "stream",
          "text": [
            "SparseTensor(indices=Tensor(\"SparseTensor_2/indices:0\", shape=(2, 2), dtype=int64), values=Tensor(\"SparseTensor_2/values:0\", shape=(2,), dtype=int32), dense_shape=Tensor(\"SparseTensor_2/dense_shape:0\", shape=(2,), dtype=int64))\n"
          ],
          "name": "stdout"
        }
      ]
    },
    {
      "cell_type": "markdown",
      "metadata": {
        "id": "nOXgsYFzZGa_"
      },
      "source": [
        "**Create SparseTense From Dense**"
      ]
    },
    {
      "cell_type": "code",
      "metadata": {
        "colab": {
          "base_uri": "https://localhost:8080/"
        },
        "id": "7pWmthjbZLzV",
        "outputId": "385ab4d6-869b-410c-a8a3-a6730a2d40fb"
      },
      "source": [
        "import numpy as np\n",
        "np_array = np.array ([[0,0,0,0],\n",
        "                     [0,1,0,0],\n",
        "                     [0,0,1,0],\n",
        "                     [0,0,0,1]])\n",
        "np_array"
      ],
      "execution_count": 46,
      "outputs": [
        {
          "output_type": "execute_result",
          "data": {
            "text/plain": [
              "array([[0, 0, 0, 0],\n",
              "       [0, 1, 0, 0],\n",
              "       [0, 0, 1, 0],\n",
              "       [0, 0, 0, 1]])"
            ]
          },
          "metadata": {
            "tags": []
          },
          "execution_count": 46
        }
      ]
    },
    {
      "cell_type": "code",
      "metadata": {
        "colab": {
          "base_uri": "https://localhost:8080/"
        },
        "id": "LAo0L_aGZdVq",
        "outputId": "37ae0fd7-5ae6-48f5-abc7-9a035aa10a20"
      },
      "source": [
        "tf.sparse.from_dense(np_array)"
      ],
      "execution_count": 47,
      "outputs": [
        {
          "output_type": "execute_result",
          "data": {
            "text/plain": [
              "<tensorflow.python.framework.sparse_tensor.SparseTensor at 0x7fa1c6966250>"
            ]
          },
          "metadata": {
            "tags": []
          },
          "execution_count": 47
        }
      ]
    },
    {
      "cell_type": "markdown",
      "metadata": {
        "id": "mS-RyotkaNjd"
      },
      "source": [
        "**Extract the Value, Indices, Shape of Sparse Tensor**"
      ]
    },
    {
      "cell_type": "code",
      "metadata": {
        "id": "37B50Xd2aQOy"
      },
      "source": [
        "stored_tensor = tf.sparse.from_dense(np_array)"
      ],
      "execution_count": 48,
      "outputs": []
    },
    {
      "cell_type": "code",
      "metadata": {
        "colab": {
          "base_uri": "https://localhost:8080/"
        },
        "id": "Zu7P7lRyadGo",
        "outputId": "a0448f4a-5d95-48dc-8439-cae86b853c85"
      },
      "source": [
        "print (stored_tensor)"
      ],
      "execution_count": 49,
      "outputs": [
        {
          "output_type": "stream",
          "text": [
            "SparseTensor(indices=Tensor(\"dense_to_sparse_5/Where:0\", shape=(None, 2), dtype=int64), values=Tensor(\"dense_to_sparse_5/GatherNd:0\", shape=(None,), dtype=int64), dense_shape=Tensor(\"dense_to_sparse_5/Shape:0\", shape=(2,), dtype=int64))\n"
          ],
          "name": "stdout"
        }
      ]
    },
    {
      "cell_type": "code",
      "metadata": {
        "colab": {
          "base_uri": "https://localhost:8080/"
        },
        "id": "oFEztFkPafWn",
        "outputId": "ff201988-9b5f-4afc-882f-b0da05fcfdd5"
      },
      "source": [
        "# Value\n",
        "stored_tensor.values"
      ],
      "execution_count": 63,
      "outputs": [
        {
          "output_type": "execute_result",
          "data": {
            "text/plain": [
              "<tf.Tensor 'dense_to_sparse_5/GatherNd:0' shape=(None,) dtype=int64>"
            ]
          },
          "metadata": {
            "tags": []
          },
          "execution_count": 63
        }
      ]
    },
    {
      "cell_type": "code",
      "metadata": {
        "colab": {
          "base_uri": "https://localhost:8080/"
        },
        "id": "oqCofKArawwe",
        "outputId": "6fd3f712-e6ad-4afe-ef36-777a1f536db2"
      },
      "source": [
        " # Indices\n",
        "stored_tensor.indices"
      ],
      "execution_count": 60,
      "outputs": [
        {
          "output_type": "execute_result",
          "data": {
            "text/plain": [
              "<tf.Tensor 'dense_to_sparse_5/Where:0' shape=(None, 2) dtype=int64>"
            ]
          },
          "metadata": {
            "tags": []
          },
          "execution_count": 60
        }
      ]
    },
    {
      "cell_type": "code",
      "metadata": {
        "colab": {
          "base_uri": "https://localhost:8080/"
        },
        "id": "roEJ7PTNbufb",
        "outputId": "efc94318-1ce0-4e0a-8819-2f6a72bab3c4"
      },
      "source": [
        "# Shapes\n",
        "stored_tensor.dense_shape"
      ],
      "execution_count": 61,
      "outputs": [
        {
          "output_type": "execute_result",
          "data": {
            "text/plain": [
              "<tf.Tensor 'dense_to_sparse_5/Shape:0' shape=(2,) dtype=int64>"
            ]
          },
          "metadata": {
            "tags": []
          },
          "execution_count": 61
        }
      ]
    },
    {
      "cell_type": "markdown",
      "metadata": {
        "id": "M-TzOSbZcWy2"
      },
      "source": [
        "**Sparse Tensor To Dense**\n",
        "\n",
        "If most of the elements are nonzero, then the tensor is considered dense."
      ]
    },
    {
      "cell_type": "code",
      "metadata": {
        "colab": {
          "base_uri": "https://localhost:8080/"
        },
        "id": "o5wl0wIEcmrl",
        "outputId": "963e33e7-472d-46fb-dd90-441226f829ac"
      },
      "source": [
        "dt_fst = tf.sparse.to_dense(stored_tensor)\n",
        "dt_fst"
      ],
      "execution_count": 67,
      "outputs": [
        {
          "output_type": "execute_result",
          "data": {
            "text/plain": [
              "<tf.Tensor 'SparseToDense_3:0' shape=(4, 4) dtype=int64>"
            ]
          },
          "metadata": {
            "tags": []
          },
          "execution_count": 67
        }
      ]
    },
    {
      "cell_type": "markdown",
      "metadata": {
        "id": "Z_Ko9IJydHKm"
      },
      "source": [
        "**Mathematical Operation on SparseTensor**"
      ]
    },
    {
      "cell_type": "code",
      "metadata": {
        "id": "wZgyGUbddOTv"
      },
      "source": [
        "import numpy as np\n",
        "np_array1 = np.array ([[0,0,0,0],\n",
        "                     [0,1,0,0],\n",
        "                     [0,0,1,0],\n",
        "                     [0,0,0,1]])\n",
        "np_array2 = np.array ([[0,0,0,0],\n",
        "                     [0,1,0,0],\n",
        "                     [0,0,1,0],\n",
        "                     [0,0,0,1]])"
      ],
      "execution_count": 68,
      "outputs": []
    },
    {
      "cell_type": "code",
      "metadata": {
        "colab": {
          "base_uri": "https://localhost:8080/"
        },
        "id": "cty0bqgud9a9",
        "outputId": "14b3fa48-37c5-4b97-dde7-ae8c4730c6db"
      },
      "source": [
        "c = tf.add (np_array1, np_array2)\n",
        "c"
      ],
      "execution_count": 76,
      "outputs": [
        {
          "output_type": "execute_result",
          "data": {
            "text/plain": [
              "<tf.Tensor 'Add_6:0' shape=(4, 4) dtype=int64>"
            ]
          },
          "metadata": {
            "tags": []
          },
          "execution_count": 76
        }
      ]
    }
  ]
}